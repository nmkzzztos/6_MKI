{
 "cells": [
  {
   "cell_type": "markdown",
   "metadata": {},
   "source": [
    "# SAT\n",
    "\n",
    "SAT-Problem (Satisfiability Problem) is a problem of determining whether a given Boolean formula is satisfiable. A formula is satisfiable if all clauses in the formula are true. A clause is a disjunction of literals. A literal is a variable or its negation.\n",
    "\n",
    "For example:\n",
    "\n",
    "$(x_1 \\lor x_2) \\land (\\neg x_1 \\lor x_3) \\land (\\neg x_2 \\lor \\neg x_3)$\n",
    "\n",
    "Components of the formula are as follows:\n",
    "- $x_1, x_2, x_3$ are variables\n",
    "- $\\neg$ is the negation\n",
    "- $\\lor$ is the disjunction\n",
    "- $\\land$ is the conjunction\n",
    "- $[(x_1 \\lor x_2)$, $(\\neg x_1 \\lor x_3)$, $(\\neg x_2 \\lor \\neg x_3)]$ are clauses\n",
    "\n",
    "The formula is satisfiable if there is an assignment of truth values to the variables that makes the formula true. In this case, the formula is satisfiable if $x_1 = \\text{True}$, $x_2 = \\text{False}$, and $x_3 = \\text{True}$.\n",
    "\n",
    "There is the table with all possible assignments of truth values to the variables and the value of the formula:\n",
    "\n",
    "| $x_1$ | $x_2$ | $x_3$ | $\\phi ((x_1 \\lor x_2) \\land (\\neg x_1 \\lor x_3) \\land (\\neg x_2 \\lor \\neg x_3))$  |\n",
    "|-------|-------|-------|---------|\n",
    "| F     | F     | F     | F       |\n",
    "| F     | F     | T     | F       |\n",
    "| F     | T     | F     | T       |\n",
    "| F     | T     | T     | F       |\n",
    "| T     | F     | F     | F       |\n",
    "| T     | F     | T     | T       |\n",
    "| T     | T     | F     | F       |\n",
    "| T     | T     | T     | F       |\n",
    "\n",
    "To check truth of table, we can use following website: [Truth Table Generator](https://web.stanford.edu/class/cs103/tools/truth-table-tool/)\n"
   ]
  },
  {
   "cell_type": "markdown",
   "metadata": {},
   "source": [
    "## How to solve SAT with Brute Force\n",
    "\n",
    "To solve SAT we can use the **Brute Force** algorithm. It is a simple algorithm that checks all possible assignments of truth values to the variables in the formula.\n",
    "\n",
    "1. Generate assignment of truth values to the variables.\n",
    "2. For this assignment, check if the formula is true.\n",
    "3. If the formula is true, return the assignment.\n",
    "4. If the formula is false, go to step 1.\n",
    "\n",
    "Algorithm stops when the formula is true for some assignment of truth values to the variables or all possible assignments are checked.\n",
    "\n",
    "| Algorithm | Time Complexity | Space Complexity |\n",
    "|-----------|-----------------|------------------|\n",
    "| Brute Force | $O(2^n \\cdot m)$ | $O(n)$ |\n",
    "\n",
    "### Example\n",
    "\n",
    "Let's consider the formula $(x_1 \\lor x_2) \\land (\\neg x_1 \\lor x_3) \\land (\\neg x_2 \\lor \\neg x_3)$.\n",
    "\n",
    "We have 3 variables $x_1, x_2, x_3$. There are $2^3 = 8$ possible assignments of truth values to the variables:\n",
    "\n",
    "1. generate first assignment: $x_1 = \\text{F}$, $x_2 = \\text{F}$, $x_3 = \\text{F}$\n",
    "2. check if the formula is true for this assignment: $\\phi$ is false\n",
    "3. ...\n",
    "5. generate third assignment: $x_1 = \\text{F}$, $x_2 = \\text{T}$, $x_3 = \\text{F}$\n",
    "6. check if the formula is true for this assignment: $\\phi$ is true\n",
    "7. return the assignment: $x_1 = \\text{F}$, $x_2 = \\text{T}$, $x_3 = \\text{F}$\n",
    "\n",
    "### Implementation"
   ]
  },
  {
   "cell_type": "code",
   "execution_count": 55,
   "metadata": {},
   "outputs": [
    {
     "name": "stdout",
     "output_type": "stream",
     "text": [
      "1 -> assignment: [False, False, False]\n",
      "assignment: [False, False, False]\n",
      "satisfied: False with vars -> [1, 2]\n",
      "clause [1, 2] is not satisfied\n",
      "---\n",
      "2 -> assignment: [True, False, False]\n",
      "assignment: [True, False, False]\n",
      "satisfied: True with vars -> [1, 2]\n",
      "satisfied: False with vars -> [-1, 3]\n",
      "clause [-1, 3] is not satisfied\n",
      "---\n",
      "3 -> assignment: [False, True, False]\n",
      "assignment: [False, True, False]\n",
      "satisfied: True with vars -> [1, 2]\n",
      "satisfied: True with vars -> [-1, 3]\n",
      "satisfied: True with vars -> [-2, -3]\n",
      "\n",
      "SAT: True -> assignment: [False, True, False]\n"
     ]
    }
   ],
   "source": [
    "def eval_formula(formula: list[list[int]], assignment: list[bool]) -> bool:\n",
    "    print(f'assignment: {assignment}')\n",
    "    for clause in formula:\n",
    "        satisfied = False\n",
    "        for var in clause:\n",
    "            if var > 0:\n",
    "                satisfied = satisfied or assignment[var-1]\n",
    "            else:\n",
    "                satisfied = satisfied or not assignment[-var-1]\n",
    "        print(f'satisfied: {satisfied} with vars -> {clause}')\n",
    "        if not satisfied:\n",
    "            print(f'clause {clause} is not satisfied')\n",
    "            return False\n",
    "    return True\n",
    "\n",
    "def brute_force_sat(formula: list[list[int]], num_vars: int) -> tuple[bool, list[bool]]:\n",
    "    count = 1\n",
    "    for bits in range(2**num_vars):\n",
    "        assignment = [(bits >> i) & 1 == 1 for i in range(num_vars)]\n",
    "        print(f'{count} -> assignment: {assignment}')\n",
    "        count += 1\n",
    "        if eval_formula(formula, assignment):\n",
    "            return True, assignment\n",
    "        print('---')\n",
    "    return False, None\n",
    "\n",
    "def main():\n",
    "    formula = [[1, 2], [-1, 3], [-2, -3]]\n",
    "    num_vars = 3\n",
    "    sat, assignment = brute_force_sat(formula, num_vars)\n",
    "    if sat:\n",
    "        print(f'\\nSAT: {sat} -> assignment: {assignment}')\n",
    "    else:\n",
    "        print(\"UNSAT\")\n",
    "\n",
    "if __name__ == \"__main__\":\n",
    "    main()"
   ]
  },
  {
   "cell_type": "markdown",
   "metadata": {},
   "source": [
    "## SAT-Solver with DPLL (Davis-Putnam-Logemann-Loveland) Algorithm\n",
    "\n",
    "The DPLL algorithm is a complete and efficient algorithm for solving the SAT problem. It is based on the backtracking search and unit propagation. The algorithm is named after its inventors: Martin Davis, George Logemann, Donald Loveland, and Hilary Putnam.\n",
    "\n",
    "The DPLL algorithm works as follows:\n",
    "\n",
    "1. **Unit Propagation**: If a clause is a unit clause (contains only one variable), the truth value of that variable is fixed to satisfy the clause.\n",
    "2. **Pure Literal Elimination**: If there is a variable that appears only with one polarity in the formula, assign the truth value to the variable.\n",
    "3. **Backtracking**: If the formula is unsatisfiable, backtrack to the last decision and change the assignment.\n",
    "\n",
    "The DPLL algorithm stops when either all clauses are satisfied (solution found) or a contradiction is found (no solution under the current assignments).\n",
    "\n",
    "| Algorithm | Time Complexity | Space Complexity |\n",
    "|-----------|-----------------|------------------|\n",
    "| DPLL | $O(2^n)$ | $O(n)$ |\n",
    "\n",
    "To watch how DPLL algorithm works, you can use the following website: [DPLL SAT Solver](https://www.inf.ufpr.br/dpasqualin/d3-dpll/)\n",
    "\n",
    "### Implementation"
   ]
  },
  {
   "cell_type": "code",
   "execution_count": 59,
   "metadata": {},
   "outputs": [
    {
     "name": "stdout",
     "output_type": "stream",
     "text": [
      "Step 1: Try variable 1 as True -> Continue with new clauses: [[3], [-2, -3]]\n",
      "Step 2: Found unit clause 3 -> Propagate and continue with new clauses: [[-2]]\n",
      "Step 3: Found unit clause -2 -> Propagate and continue with new clauses: []\n",
      "Step 4: No clauses left -> Return: True, Final assignment: [1, 3, -2]\n",
      "\n",
      "SAT: True -> assignment: [1, 3, -2]\n"
     ]
    }
   ],
   "source": [
    "def dpll(clauses: list[list[int]], assignment: list[int] = [], count: int = 1) -> tuple[bool, list[int]]:\n",
    "    # Base case: If there are no clauses left, all clauses have been satisfied.\n",
    "    if not clauses:\n",
    "        print(f'Step {count}: No clauses left -> Return: True, Final assignment: {assignment}')\n",
    "        return True, assignment\n",
    "\n",
    "    # Base case: If there is an empty clause, the problem is unsatisfiable with the current assignment.\n",
    "    if any([not clause for clause in clauses]):\n",
    "        print(f'Step {count}: Found empty clause -> Return: False, assignment: None')\n",
    "        return False, None\n",
    "\n",
    "    # Unit propagation: If a clause is a unit clause, its single variable must be set to satisfy the clause.\n",
    "    for clause in clauses:\n",
    "        if len(clause) == 1:\n",
    "            unit = clause[0]\n",
    "            # Propagate the unit throughout the formula and continue the search.\n",
    "            # Exclude the unit and its negation and add the unit to the assignment.\n",
    "            new_clauses = [ [var for var in c if var != -unit] for c in clauses if unit not in c]\n",
    "            print(f'Step {count}: Found unit clause {unit} -> Propagate and continue with new clauses: {new_clauses}')\n",
    "            return dpll(new_clauses, assignment + [unit], count + 1)\n",
    "\n",
    "    # Choose the first variable in the first clause that is not a unit clause.\n",
    "    variable = clauses[0][0]\n",
    "\n",
    "    # Try assigning the variable to true and solve the remaining problem recursively.\n",
    "    new_clauses = [ [var for var in c if var != -variable] for c in clauses if variable not in c]\n",
    "    print(f'Step {count}: Try variable {variable} as True -> Continue with new clauses: {new_clauses}')\n",
    "    sat, vals = dpll(new_clauses, assignment + [variable], count + 1)\n",
    "    if sat:\n",
    "        # If satisfiable with variable = true, return the solution.\n",
    "        return sat, vals\n",
    "\n",
    "    # If not satisfiable with variable = true, try variable = false.\n",
    "    print(f'Step {count}: Try variable {variable} as False')\n",
    "    return dpll([ [var for var in c if var != variable] for c in clauses if -variable not in c], assignment + [-variable])\n",
    "\n",
    "def main():\n",
    "    formula = [[1, 2], [-1, 3], [-2, -3]]\n",
    "    sat, assignment = dpll(formula)\n",
    "    if sat:\n",
    "        print(f'\\nSAT: {sat} -> assignment: {assignment}')\n",
    "    else:\n",
    "        print(\"UNSAT\")\n",
    "\n",
    "if __name__ == \"__main__\":\n",
    "    main()"
   ]
  },
  {
   "cell_type": "markdown",
   "metadata": {},
   "source": [
    "### Comparison of Brute Force and DPLL"
   ]
  },
  {
   "cell_type": "code",
   "execution_count": 53,
   "metadata": {},
   "outputs": [],
   "source": [
    "formulas = {\n",
    "    3: [[1, 2], [-1, 3], [-2, -3]],\n",
    "    4: [[1, 2, 3], [-1, 2, 4], [-2, -3, 4], [-1, -2, -3]],\n",
    "    5: [[1, 2, 3], [-1, 2, 4], [-2, -3, 4], [-1, -2, -3], [1, 3, 5]],\n",
    "    6: [[1, 2, 3], [-1, 2, 4], [-2, -3, 4], [-1, -2, -3], [1, 3, 5], [-1, -3, -5]],\n",
    "    7: [[1, 2, 3], [-1, 2, 4], [-2, -3, 4], [-1, -2, -3], [1, 3, 5], [-1, -3, -5], [2, 4, 6]],\n",
    "}"
   ]
  },
  {
   "cell_type": "code",
   "execution_count": 58,
   "metadata": {},
   "outputs": [
    {
     "name": "stdout",
     "output_type": "stream",
     "text": [
      "36.1 µs ± 1.72 µs per loop (mean ± std. dev. of 7 runs, 10,000 loops each)\n"
     ]
    }
   ],
   "source": [
    "%%timeit\n",
    "for num_vars, formula in formulas.items():\n",
    "    dpll(formula)"
   ]
  },
  {
   "cell_type": "code",
   "execution_count": 54,
   "metadata": {},
   "outputs": [
    {
     "name": "stdout",
     "output_type": "stream",
     "text": [
      "38.1 µs ± 2.45 µs per loop (mean ± std. dev. of 7 runs, 10,000 loops each)\n"
     ]
    }
   ],
   "source": [
    "%%timeit\n",
    "for vars, formula in formulas.items():\n",
    "    brute_force_sat(formula, vars)"
   ]
  }
 ],
 "metadata": {
  "kernelspec": {
   "display_name": "base",
   "language": "python",
   "name": "python3"
  },
  "language_info": {
   "codemirror_mode": {
    "name": "ipython",
    "version": 3
   },
   "file_extension": ".py",
   "mimetype": "text/x-python",
   "name": "python",
   "nbconvert_exporter": "python",
   "pygments_lexer": "ipython3",
   "version": "3.11.5"
  }
 },
 "nbformat": 4,
 "nbformat_minor": 2
}
