{
 "cells": [
  {
   "cell_type": "code",
   "execution_count": null,
   "metadata": {},
   "outputs": [],
   "source": [
    "class KMeans:\n",
    "    def __init__(self, k, data):\n",
    "        self.k = k\n",
    "        self.data = data\n",
    "        self.centroids = self._initialize_centroids()\n",
    "        self.clusters = self._initialize_clusters()\n",
    "\n",
    "    def initialize_centroids(self):\n",
    "        return self.data[:self.k]\n",
    "\n",
    "    def initialize_clusters(self):\n",
    "        clusters = {}\n",
    "        for i in range(self.k):\n",
    "            clusters[i] = []\n",
    "        return clusters\n",
    "\n",
    "    def _euclidean_distance(self, a, b):\n",
    "        return sum((a - b) ** 2 for a, b in zip(a, b)) ** 0.5\n",
    "\n",
    "    def _assign_cluster(self, point):\n",
    "        distances = [self._euclidean_distance(point, centroid) for centroid in self.centroids]\n",
    "        return distances.index(min(distances))\n",
    "\n",
    "    def _update_centroids(self):\n",
    "        for i in range(self.k):\n",
    "            self.centroids[i] = sum(self.clusters[i]) / len(self.clusters[i])\n",
    "\n",
    "    def fit(self):\n",
    "        while True:\n",
    "            for point in self.data:\n",
    "                cluster = self._assign_cluster(point)\n",
    "                self.clusters[cluster].append(point)\n",
    "            new_centroids = self.centroids.copy()\n",
    "            self._update_centroids()\n",
    "            if new_centroids == self.centroids:\n",
    "                break\n",
    "\n",
    "    def predict(self, point):\n",
    "        return self._assign_cluster(point)\n",
    "\n",
    "    def get_clusters(self):\n",
    "        return self.clusters\n",
    "\n",
    "    def get_centroids(self):\n",
    "        return self.centroids"
   ]
  },
  {
   "cell_type": "code",
   "execution_count": null,
   "metadata": {},
   "outputs": [],
   "source": []
  }
 ],
 "metadata": {
  "language_info": {
   "name": "python"
  }
 },
 "nbformat": 4,
 "nbformat_minor": 2
}
